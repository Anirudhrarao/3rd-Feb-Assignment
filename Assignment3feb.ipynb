{
 "cells": [
  {
   "cell_type": "markdown",
   "id": "d32703fc",
   "metadata": {},
   "source": [
    "### Solution (1)\n",
    "* A def keyword used to create function."
   ]
  },
  {
   "cell_type": "code",
   "execution_count": 1,
   "id": "de7a6dd2",
   "metadata": {},
   "outputs": [],
   "source": [
    "def test():\n",
    "    ls = []\n",
    "    for i in range(1,25):\n",
    "        if i%2!=0:\n",
    "            ls.append(i)\n",
    "    return ls"
   ]
  },
  {
   "cell_type": "code",
   "execution_count": 2,
   "id": "c28339e0",
   "metadata": {},
   "outputs": [
    {
     "data": {
      "text/plain": [
       "[1, 3, 5, 7, 9, 11, 13, 15, 17, 19, 21, 23]"
      ]
     },
     "execution_count": 2,
     "metadata": {},
     "output_type": "execute_result"
    }
   ],
   "source": [
    "test()"
   ]
  },
  {
   "cell_type": "markdown",
   "id": "3c543dd8",
   "metadata": {},
   "source": [
    "### Solution (2)\n",
    "* *args can be use when we dont know how many number of parameter should be passed in function"
   ]
  },
  {
   "cell_type": "code",
   "execution_count": 3,
   "id": "c6a277c9",
   "metadata": {},
   "outputs": [],
   "source": [
    "def test(*args):\n",
    "    return args"
   ]
  },
  {
   "cell_type": "code",
   "execution_count": 4,
   "id": "e877ed0d",
   "metadata": {},
   "outputs": [
    {
     "data": {
      "text/plain": [
       "(1, 2, 3, 4)"
      ]
     },
     "execution_count": 4,
     "metadata": {},
     "output_type": "execute_result"
    }
   ],
   "source": [
    "test(1,2,3,4)"
   ]
  },
  {
   "cell_type": "markdown",
   "id": "3279f8c1",
   "metadata": {},
   "source": [
    "* **Kwargs used when we will pass parameter in the form of key and values."
   ]
  },
  {
   "cell_type": "code",
   "execution_count": 5,
   "id": "35c76a42",
   "metadata": {},
   "outputs": [],
   "source": [
    "def test1(**kwargs):\n",
    "    return kwargs"
   ]
  },
  {
   "cell_type": "code",
   "execution_count": 7,
   "id": "0e3e97fe",
   "metadata": {},
   "outputs": [
    {
     "data": {
      "text/plain": [
       "{'name': 'Anirudhra', 'age': 21}"
      ]
     },
     "execution_count": 7,
     "metadata": {},
     "output_type": "execute_result"
    }
   ],
   "source": [
    "test1(name='Anirudhra',age=21)"
   ]
  },
  {
   "cell_type": "markdown",
   "id": "ae5ce7d1",
   "metadata": {},
   "source": [
    "### Solution (3)\n",
    "* An iterator is an object that contains a countable number of values"
   ]
  },
  {
   "cell_type": "code",
   "execution_count": 10,
   "id": "d54d6e2c",
   "metadata": {},
   "outputs": [],
   "source": [
    "ls = [2, 4, 6, 8, 10, 12, 14, 16, 18, 20]\n",
    "i = iter(ls)"
   ]
  },
  {
   "cell_type": "code",
   "execution_count": 12,
   "id": "c35e5190",
   "metadata": {},
   "outputs": [
    {
     "name": "stdout",
     "output_type": "stream",
     "text": [
      "4\n"
     ]
    }
   ],
   "source": [
    "print(next(i))"
   ]
  },
  {
   "cell_type": "code",
   "execution_count": 13,
   "id": "5d9ff9bd",
   "metadata": {},
   "outputs": [
    {
     "name": "stdout",
     "output_type": "stream",
     "text": [
      "6\n"
     ]
    }
   ],
   "source": [
    "print(next(i))"
   ]
  },
  {
   "cell_type": "code",
   "execution_count": 14,
   "id": "92c24ed2",
   "metadata": {},
   "outputs": [
    {
     "name": "stdout",
     "output_type": "stream",
     "text": [
      "8\n"
     ]
    }
   ],
   "source": [
    "print(next(i))"
   ]
  },
  {
   "cell_type": "code",
   "execution_count": 15,
   "id": "8591fd8c",
   "metadata": {},
   "outputs": [
    {
     "name": "stdout",
     "output_type": "stream",
     "text": [
      "10\n"
     ]
    }
   ],
   "source": [
    "print(next(i))"
   ]
  },
  {
   "cell_type": "code",
   "execution_count": 16,
   "id": "c8b0b69f",
   "metadata": {},
   "outputs": [
    {
     "name": "stdout",
     "output_type": "stream",
     "text": [
      "12\n"
     ]
    }
   ],
   "source": [
    "print(next(i))"
   ]
  },
  {
   "cell_type": "markdown",
   "id": "fee4a376",
   "metadata": {},
   "source": [
    "### Solution (4)\n",
    "* An iterator is function that create iterator and produce sequence of value when iterated over.\n",
    "* Yield function is controls the flow of a generator function or used create generator functions which is more memory efficient\n",
    "   can be like iterator object."
   ]
  },
  {
   "cell_type": "code",
   "execution_count": 17,
   "id": "308a7124",
   "metadata": {},
   "outputs": [],
   "source": [
    "def test():\n",
    "    for i in range(5):\n",
    "        yield i\n"
   ]
  },
  {
   "cell_type": "code",
   "execution_count": 21,
   "id": "f4d6ff08",
   "metadata": {},
   "outputs": [
    {
     "data": {
      "text/plain": [
       "<generator object test at 0x000001F2515CFED0>"
      ]
     },
     "execution_count": 21,
     "metadata": {},
     "output_type": "execute_result"
    }
   ],
   "source": [
    "test()"
   ]
  },
  {
   "cell_type": "code",
   "execution_count": 19,
   "id": "fff5250c",
   "metadata": {},
   "outputs": [
    {
     "data": {
      "text/plain": [
       "<generator object test at 0x000001F2515CE9D0>"
      ]
     },
     "execution_count": 19,
     "metadata": {},
     "output_type": "execute_result"
    }
   ],
   "source": [
    "test()"
   ]
  },
  {
   "cell_type": "markdown",
   "id": "a2def026",
   "metadata": {},
   "source": [
    "### Solution (5)"
   ]
  },
  {
   "cell_type": "code",
   "execution_count": 28,
   "id": "412a8ad2",
   "metadata": {},
   "outputs": [],
   "source": [
    "def test2():\n",
    "    for i in range(1,1000):\n",
    "        if i%2!=0:\n",
    "            yield i"
   ]
  },
  {
   "cell_type": "code",
   "execution_count": 29,
   "id": "cbfe3e70",
   "metadata": {},
   "outputs": [],
   "source": [
    "generator = test2()"
   ]
  },
  {
   "cell_type": "code",
   "execution_count": 31,
   "id": "3177fdf5",
   "metadata": {},
   "outputs": [
    {
     "name": "stdout",
     "output_type": "stream",
     "text": [
      "1\n",
      "3\n",
      "5\n",
      "7\n",
      "9\n",
      "11\n",
      "13\n",
      "15\n",
      "17\n",
      "19\n",
      "21\n",
      "23\n",
      "25\n",
      "27\n",
      "29\n",
      "31\n",
      "33\n",
      "35\n",
      "37\n",
      "39\n"
     ]
    }
   ],
   "source": [
    "for i in range(20):\n",
    "    print(next(generator))"
   ]
  },
  {
   "cell_type": "code",
   "execution_count": null,
   "id": "e6f130ae",
   "metadata": {},
   "outputs": [],
   "source": []
  }
 ],
 "metadata": {
  "kernelspec": {
   "display_name": "Python 3 (ipykernel)",
   "language": "python",
   "name": "python3"
  },
  "language_info": {
   "codemirror_mode": {
    "name": "ipython",
    "version": 3
   },
   "file_extension": ".py",
   "mimetype": "text/x-python",
   "name": "python",
   "nbconvert_exporter": "python",
   "pygments_lexer": "ipython3",
   "version": "3.10.4"
  }
 },
 "nbformat": 4,
 "nbformat_minor": 5
}
